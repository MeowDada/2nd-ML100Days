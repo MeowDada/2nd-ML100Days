{
 "cells": [
  {
   "cell_type": "markdown",
   "metadata": {},
   "source": [
    "## Work\n",
    "1. 請嘗試寫一個 callback 用來記錄各類別在訓練過程中，對驗證集的 True Positive 與 True Negative"
   ]
  },
  {
   "cell_type": "code",
   "execution_count": 1,
   "metadata": {},
   "outputs": [
    {
     "name": "stderr",
     "output_type": "stream",
     "text": [
      "Using TensorFlow backend.\n"
     ]
    }
   ],
   "source": [
    "import os\n",
    "import keras"
   ]
  },
  {
   "cell_type": "code",
   "execution_count": 2,
   "metadata": {},
   "outputs": [],
   "source": [
    "train, test = keras.datasets.cifar10.load_data()"
   ]
  },
  {
   "cell_type": "code",
   "execution_count": 3,
   "metadata": {},
   "outputs": [],
   "source": [
    "## 資料前處理\n",
    "def preproc_x(x, flatten=True):\n",
    "    x = x / 255.\n",
    "    if flatten:\n",
    "        x = x.reshape((len(x), -1))\n",
    "    return x\n",
    "\n",
    "def preproc_y(y, num_classes=10):\n",
    "    if y.shape[-1] == 1:\n",
    "        y = keras.utils.to_categorical(y, num_classes)\n",
    "    return y    "
   ]
  },
  {
   "cell_type": "code",
   "execution_count": 4,
   "metadata": {},
   "outputs": [],
   "source": [
    "x_train, y_train = train\n",
    "x_test, y_test = test\n",
    "\n",
    "# Preproc the inputs\n",
    "x_train = preproc_x(x_train)\n",
    "x_test = preproc_x(x_test)\n",
    "\n",
    "# Preprc the outputs\n",
    "y_train = preproc_y(y_train)\n",
    "y_test = preproc_y(y_test)"
   ]
  },
  {
   "cell_type": "code",
   "execution_count": 5,
   "metadata": {},
   "outputs": [],
   "source": [
    "from keras.layers import Input\n",
    "from keras.layers import Dense\n",
    "from keras.layers import Dropout\n",
    "from keras.layers import Activation\n",
    "from keras.layers import BatchNormalization\n",
    "from keras.regularizers import l1_l2\n",
    "\n",
    "def build_mlp(input_shape, output_units=10, num_neurons=[256, 256, 256]):\n",
    "    input_layer = Input(input_shape)\n",
    "    x = Dense(units=num_neurons[0],\n",
    "              activation=None,\n",
    "              name='hidden_layer_0',\n",
    "              kernel_regularizer=l1_l2(1e-12,1e-12))(input_layer)\n",
    "    x = Activation('relu')(x)\n",
    "    x = BatchNormalization()(x)\n",
    "    x = Dropout(0.2)(x)\n",
    "    for i, neurons in enumerate(num_neurons):\n",
    "        x = Dense(units=neurons,\n",
    "                  activation=None,\n",
    "                  name='hidden_layer_{0}'.format(str(i+1)),\n",
    "                  kernel_regularizer=l1_l2(1e-12,1e-12))(x)\n",
    "        x = Activation('relu')(x)\n",
    "        x = BatchNormalization()(x)\n",
    "        x = Dropout(0.2)(x)\n",
    "    \n",
    "    out = keras.layers.Dense(units=output_units, activation=\"softmax\", name=\"output\")(x)\n",
    "    model = keras.models.Model(inputs=[input_layer], outputs=[out])\n",
    "    \n",
    "    return model"
   ]
  },
  {
   "cell_type": "code",
   "execution_count": 6,
   "metadata": {},
   "outputs": [],
   "source": [
    "## 超參數設定\n",
    "LEARNING_RATE = 1e-3\n",
    "EPOCHS = 25\n",
    "BATCH_SIZE = 1024\n",
    "MOMENTUM = 0.95"
   ]
  },
  {
   "cell_type": "code",
   "execution_count": 48,
   "metadata": {},
   "outputs": [],
   "source": [
    "# 載入 Callbacks\n",
    "from keras.callbacks import Callback\n",
    "\n",
    "# Record_fp_tp\n",
    "class Record_tp_tn(Callback):\n",
    "    \"\"\"Code Here\n",
    "    撰寫一個紀錄 ture positive 與 true negative 數量的 callbacks    \n",
    "    \"\"\"\n",
    "    def on_train_begin(self, epoch, logs = {}):\n",
    "        logs = logs or {}\n",
    "        logs = logs or {}\n",
    "        record_items = [\"val_auc\", \"val_f1sc\", \"val_fp\", \"val_fn\", \"val_tp\", \"val_tn\"]\n",
    "        for i in record_items:\n",
    "            if i not in self.params['metrics']:\n",
    "                self.params['metrics'].append(i)\n",
    "        \n",
    "    def on_epoch_end(self, epoch, logs = {}, thres=0.5):\n",
    "        logs = logs or {}\n",
    "        logs['val_tp'] = 0\n",
    "        logs['val_tn'] = 0\n",
    "        y_true = self.validation_data[1].argmax(axis = 1)\n",
    "        y_pred = self.model.predict(self.validation_data[0])\n",
    "        y_pred = (y_pred[:, 1] >= thres) * 1\n",
    "        for true, pred in zip(y_true, y_pred):\n",
    "            if true == 1 and pred == 1:\n",
    "                logs['val_tp'] += 1\n",
    "            elif true == 0 and pred == 0:\n",
    "                logs['val_tn'] += 1\n",
    "        \n",
    "\n",
    "rec_tptn = Record_tp_tn()"
   ]
  },
  {
   "cell_type": "code",
   "execution_count": 49,
   "metadata": {
    "scrolled": true
   },
   "outputs": [
    {
     "name": "stdout",
     "output_type": "stream",
     "text": [
      "_________________________________________________________________\n",
      "Layer (type)                 Output Shape              Param #   \n",
      "=================================================================\n",
      "input_19 (InputLayer)        (None, 3072)              0         \n",
      "_________________________________________________________________\n",
      "hidden_layer_0 (Dense)       (None, 256)               786688    \n",
      "_________________________________________________________________\n",
      "activation_73 (Activation)   (None, 256)               0         \n",
      "_________________________________________________________________\n",
      "batch_normalization_73 (Batc (None, 256)               1024      \n",
      "_________________________________________________________________\n",
      "dropout_73 (Dropout)         (None, 256)               0         \n",
      "_________________________________________________________________\n",
      "hidden_layer_1 (Dense)       (None, 256)               65792     \n",
      "_________________________________________________________________\n",
      "activation_74 (Activation)   (None, 256)               0         \n",
      "_________________________________________________________________\n",
      "batch_normalization_74 (Batc (None, 256)               1024      \n",
      "_________________________________________________________________\n",
      "dropout_74 (Dropout)         (None, 256)               0         \n",
      "_________________________________________________________________\n",
      "hidden_layer_2 (Dense)       (None, 256)               65792     \n",
      "_________________________________________________________________\n",
      "activation_75 (Activation)   (None, 256)               0         \n",
      "_________________________________________________________________\n",
      "batch_normalization_75 (Batc (None, 256)               1024      \n",
      "_________________________________________________________________\n",
      "dropout_75 (Dropout)         (None, 256)               0         \n",
      "_________________________________________________________________\n",
      "hidden_layer_3 (Dense)       (None, 256)               65792     \n",
      "_________________________________________________________________\n",
      "activation_76 (Activation)   (None, 256)               0         \n",
      "_________________________________________________________________\n",
      "batch_normalization_76 (Batc (None, 256)               1024      \n",
      "_________________________________________________________________\n",
      "dropout_76 (Dropout)         (None, 256)               0         \n",
      "_________________________________________________________________\n",
      "output (Dense)               (None, 10)                2570      \n",
      "=================================================================\n",
      "Total params: 990,730\n",
      "Trainable params: 988,682\n",
      "Non-trainable params: 2,048\n",
      "_________________________________________________________________\n",
      "Train on 50000 samples, validate on 10000 samples\n",
      "Epoch 1/25\n",
      "50000/50000 [==============================] - 6s 123us/step - loss: 2.6550 - acc: 0.1885 - val_loss: 2.3491 - val_acc: 0.2492\n",
      "<class 'dict'>\n",
      "Epoch 2/25\n",
      "50000/50000 [==============================] - 2s 37us/step - loss: 2.2210 - acc: 0.2735 - val_loss: 1.9450 - val_acc: 0.3275\n",
      "<class 'dict'>\n",
      "Epoch 3/25\n",
      "50000/50000 [==============================] - 2s 37us/step - loss: 2.0667 - acc: 0.3016 - val_loss: 1.8817 - val_acc: 0.3492\n",
      "<class 'dict'>\n",
      "Epoch 4/25\n",
      "50000/50000 [==============================] - 2s 37us/step - loss: 1.9782 - acc: 0.3183 - val_loss: 1.8225 - val_acc: 0.3509\n",
      "<class 'dict'>\n",
      "Epoch 5/25\n",
      "50000/50000 [==============================] - 2s 37us/step - loss: 1.9128 - acc: 0.3390 - val_loss: 1.6728 - val_acc: 0.3991\n",
      "<class 'dict'>\n",
      "Epoch 6/25\n",
      "50000/50000 [==============================] - 2s 37us/step - loss: 1.8609 - acc: 0.3516 - val_loss: 1.6761 - val_acc: 0.4066\n",
      "<class 'dict'>\n",
      "Epoch 7/25\n",
      "50000/50000 [==============================] - 2s 41us/step - loss: 1.8219 - acc: 0.3618 - val_loss: 1.6358 - val_acc: 0.4209\n",
      "<class 'dict'>\n",
      "Epoch 8/25\n",
      "50000/50000 [==============================] - 2s 39us/step - loss: 1.7859 - acc: 0.3694 - val_loss: 1.6345 - val_acc: 0.4196\n",
      "<class 'dict'>\n",
      "Epoch 9/25\n",
      "50000/50000 [==============================] - 2s 40us/step - loss: 1.7606 - acc: 0.3808 - val_loss: 1.5817 - val_acc: 0.4415\n",
      "<class 'dict'>\n",
      "Epoch 10/25\n",
      "50000/50000 [==============================] - 2s 43us/step - loss: 1.7339 - acc: 0.3884 - val_loss: 1.5788 - val_acc: 0.4368\n",
      "<class 'dict'>\n",
      "Epoch 11/25\n",
      "50000/50000 [==============================] - 2s 37us/step - loss: 1.7086 - acc: 0.3960 - val_loss: 1.5677 - val_acc: 0.4475\n",
      "<class 'dict'>\n",
      "Epoch 12/25\n",
      "50000/50000 [==============================] - 2s 39us/step - loss: 1.6891 - acc: 0.4009 - val_loss: 1.5510 - val_acc: 0.4482\n",
      "<class 'dict'>\n",
      "Epoch 13/25\n",
      "50000/50000 [==============================] - 2s 41us/step - loss: 1.6657 - acc: 0.4112 - val_loss: 1.5458 - val_acc: 0.4505\n",
      "<class 'dict'>\n",
      "Epoch 14/25\n",
      "50000/50000 [==============================] - 2s 39us/step - loss: 1.6512 - acc: 0.4133 - val_loss: 1.5364 - val_acc: 0.4526\n",
      "<class 'dict'>\n",
      "Epoch 15/25\n",
      "50000/50000 [==============================] - 2s 38us/step - loss: 1.6362 - acc: 0.4167 - val_loss: 1.5177 - val_acc: 0.4590\n",
      "<class 'dict'>\n",
      "Epoch 16/25\n",
      "50000/50000 [==============================] - 2s 39us/step - loss: 1.6199 - acc: 0.4220 - val_loss: 1.5101 - val_acc: 0.4624\n",
      "<class 'dict'>\n",
      "Epoch 17/25\n",
      "50000/50000 [==============================] - 2s 38us/step - loss: 1.6081 - acc: 0.4257 - val_loss: 1.4873 - val_acc: 0.4714\n",
      "<class 'dict'>\n",
      "Epoch 18/25\n",
      "50000/50000 [==============================] - 2s 38us/step - loss: 1.5948 - acc: 0.4329 - val_loss: 1.4854 - val_acc: 0.4738\n",
      "<class 'dict'>\n",
      "Epoch 19/25\n",
      "50000/50000 [==============================] - 2s 39us/step - loss: 1.5863 - acc: 0.4328 - val_loss: 1.4807 - val_acc: 0.4738\n",
      "<class 'dict'>\n",
      "Epoch 20/25\n",
      "50000/50000 [==============================] - 2s 38us/step - loss: 1.5716 - acc: 0.4411 - val_loss: 1.4741 - val_acc: 0.4746\n",
      "<class 'dict'>\n",
      "Epoch 21/25\n",
      "50000/50000 [==============================] - 2s 41us/step - loss: 1.5593 - acc: 0.4436 - val_loss: 1.4713 - val_acc: 0.4735\n",
      "<class 'dict'>\n",
      "Epoch 22/25\n",
      "50000/50000 [==============================] - 2s 39us/step - loss: 1.5524 - acc: 0.4441 - val_loss: 1.4675 - val_acc: 0.4767\n",
      "<class 'dict'>\n",
      "Epoch 23/25\n",
      "50000/50000 [==============================] - 2s 39us/step - loss: 1.5408 - acc: 0.4493 - val_loss: 1.4564 - val_acc: 0.4854\n",
      "<class 'dict'>\n",
      "Epoch 24/25\n",
      "50000/50000 [==============================] - 2s 40us/step - loss: 1.5303 - acc: 0.4537 - val_loss: 1.4520 - val_acc: 0.4779\n",
      "<class 'dict'>\n",
      "Epoch 25/25\n",
      "50000/50000 [==============================] - 2s 38us/step - loss: 1.5269 - acc: 0.4546 - val_loss: 1.4430 - val_acc: 0.4830\n",
      "<class 'dict'>\n"
     ]
    }
   ],
   "source": [
    "model = build_mlp(input_shape=x_train.shape[1:])\n",
    "model.summary()\n",
    "optimizer = keras.optimizers.SGD(lr=LEARNING_RATE, nesterov=True, momentum=MOMENTUM)\n",
    "model.compile(loss=\"categorical_crossentropy\", metrics=[\"accuracy\"], optimizer=optimizer)\n",
    "\n",
    "\"\"\"Code Here\n",
    "將 callbacks 放入模型訓練流程中\n",
    "\"\"\"\n",
    "model.fit(x_train, y_train, \n",
    "          epochs=EPOCHS, \n",
    "          batch_size=BATCH_SIZE, \n",
    "          validation_data=(x_test, y_test), \n",
    "          shuffle=True,\n",
    "          callbacks=[rec_tptn]\n",
    "         )\n",
    "\n",
    "# Collect results\n",
    "train_loss = model.history.history[\"loss\"]\n",
    "valid_loss = model.history.history[\"val_loss\"]\n",
    "train_acc = model.history.history[\"acc\"]\n",
    "valid_acc = model.history.history[\"val_acc\"]\n",
    "\n",
    "\"\"\"Code Here\n",
    "將 tp/tn 從訓練完的模型中取出\n",
    "\"\"\"\n",
    "valid_tp = model.history.history['val_tp']\n",
    "valid_tn = model.history.history['val_tn']"
   ]
  },
  {
   "cell_type": "code",
   "execution_count": 50,
   "metadata": {},
   "outputs": [
    {
     "data": {
      "image/png": "[encoded data removed]",
      "text/plain": [
       "<Figure size 432x288 with 1 Axes>"
      ]
     },
     "metadata": {
      "needs_background": "light"
     },
     "output_type": "display_data"
    },
    {
     "data": {
      "image/png": "[encoded data removed]",
      "text/plain": [
       "<Figure size 432x288 with 1 Axes>"
      ]
     },
     "metadata": {
      "needs_background": "light"
     },
     "output_type": "display_data"
    },
    {
     "data": {
      "image/png": "[encoded data removed]",
      "text/plain": [
       "<Figure size 432x288 with 1 Axes>"
      ]
     },
     "metadata": {
      "needs_background": "light"
     },
     "output_type": "display_data"
    }
   ],
   "source": [
    "import matplotlib.pyplot as plt\n",
    "%matplotlib inline\n",
    "\n",
    "plt.plot(range(len(train_loss)), train_loss, label=\"train loss\")\n",
    "plt.plot(range(len(valid_loss)), valid_loss, label=\"valid loss\")\n",
    "plt.legend()\n",
    "plt.title(\"Loss\")\n",
    "plt.show()\n",
    "\n",
    "plt.plot(range(len(train_acc)), train_acc, label=\"train accuracy\")\n",
    "plt.plot(range(len(valid_acc)), valid_acc, label=\"valid accuracy\")\n",
    "plt.legend()\n",
    "plt.title(\"Accuracy\")\n",
    "plt.show()\n",
    "\n",
    "plt.plot(range(len(valid_tp)), valid_tp, label=\"valid tp\", color=\"navy\")\n",
    "plt.plot(range(len(valid_tn)), valid_tn, label=\"valid tn\", color=\"red\")\n",
    "plt.legend()\n",
    "plt.title(\"True positives and True Negatives\")\n",
    "plt.show()\n"
   ]
  },
  {
   "cell_type": "code",
   "execution_count": null,
   "metadata": {},
   "outputs": [],
   "source": []
  },
  {
   "cell_type": "code",
   "execution_count": null,
   "metadata": {},
   "outputs": [],
   "source": []
  }
 ],
 "metadata": {
  "kernelspec": {
   "display_name": "Python 3",
   "language": "python",
   "name": "python3"
  },
  "language_info": {
   "codemirror_mode": {
    "name": "ipython",
    "version": 3
   },
   "file_extension": ".py",
   "mimetype": "text/x-python",
   "name": "python",
   "nbconvert_exporter": "python",
   "pygments_lexer": "ipython3",
   "version": "3.7.3"
  }
 },
 "nbformat": 4,
 "nbformat_minor": 2
}
