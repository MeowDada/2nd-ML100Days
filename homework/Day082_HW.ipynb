{
 "cells": [
  {
   "cell_type": "markdown",
   "metadata": {},
   "source": [
    "## Work\n",
    "1. 請比較使用不同層數以及不同 Dropout rate 對訓練的效果\n",
    "2. 將 optimizer 改成使用 Adam 並加上適當的 dropout rate 檢視結果"
   ]
  },
  {
   "cell_type": "code",
   "execution_count": 1,
   "metadata": {},
   "outputs": [
    {
     "name": "stderr",
     "output_type": "stream",
     "text": [
      "Using TensorFlow backend.\n"
     ]
    }
   ],
   "source": [
    "import os\n",
    "import keras\n",
    "import itertools\n",
    "# Disable GPU\n",
    "os.environ[\"CUDA_VISIBLE_DEVICES\"] = \"0\""
   ]
  },
  {
   "cell_type": "code",
   "execution_count": 2,
   "metadata": {},
   "outputs": [],
   "source": [
    "train, test = keras.datasets.cifar10.load_data()"
   ]
  },
  {
   "cell_type": "code",
   "execution_count": 3,
   "metadata": {},
   "outputs": [],
   "source": [
    "## 資料前處理\n",
    "def preproc_x(x, flatten=True):\n",
    "    x = x / 255.\n",
    "    if flatten:\n",
    "        x = x.reshape((len(x), -1))\n",
    "    return x\n",
    "\n",
    "def preproc_y(y, num_classes=10):\n",
    "    if y.shape[-1] == 1:\n",
    "        y = keras.utils.to_categorical(y, num_classes)\n",
    "    return y    "
   ]
  },
  {
   "cell_type": "code",
   "execution_count": 4,
   "metadata": {},
   "outputs": [],
   "source": [
    "x_train, y_train = train\n",
    "x_test, y_test = test\n",
    "\n",
    "# Preproc the inputs\n",
    "x_train = preproc_x(x_train)\n",
    "x_test = preproc_x(x_test)\n",
    "\n",
    "# Preprc the outputs\n",
    "y_train = preproc_y(y_train)\n",
    "y_test = preproc_y(y_test)"
   ]
  },
  {
   "cell_type": "code",
   "execution_count": 5,
   "metadata": {},
   "outputs": [],
   "source": [
    "from keras.layers import Dropout\n",
    "\n",
    "def build_mlp(input_shape, output_units=10, num_neurons=[512, 256, 128]):\n",
    "    \"\"\"Code Here\n",
    "    建立你的神經網路\n",
    "    \"\"\"\n",
    "    input_layer = keras.layers.Input(input_shape)\n",
    "    \n",
    "    for i, n_units in enumerate(num_neurons):\n",
    "        if i == 0:\n",
    "            x = keras.layers.Dense(units=n_units, activation=\"relu\", name=\"hidden_layer\"+str(i+1))(input_layer)\n",
    "        else:\n",
    "            x = keras.layers.Dense(units=n_units, activation=\"relu\", name=\"hidden_layer\"+str(i+1))(x)\n",
    "    \n",
    "    out = keras.layers.Dense(units=output_units, activation=\"softmax\", name=\"output\")(x)\n",
    "    out = Dropout(0.2)(out)\n",
    "    \n",
    "    model = keras.models.Model(inputs=[input_layer], outputs=[out])\n",
    "    return model"
   ]
  },
  {
   "cell_type": "code",
   "execution_count": 6,
   "metadata": {},
   "outputs": [],
   "source": [
    "\"\"\"Code Here\n",
    "設定超參數\n",
    "\"\"\"\n",
    "## 超參數設定\n",
    "LEARNING_RATE = 1e-3\n",
    "EPOCHS = 50\n",
    "BATCH_SIZE = 256\n",
    "MOMENTUM = 0.95\n",
    "NESTEROV = True"
   ]
  },
  {
   "cell_type": "code",
   "execution_count": 7,
   "metadata": {
    "scrolled": true
   },
   "outputs": [
    {
     "name": "stderr",
     "output_type": "stream",
     "text": [
      "WARNING: Logging before flag parsing goes to stderr.\n",
      "W0718 22:59:02.776680  7608 deprecation_wrapper.py:119] From C:\\Users\\Scherzando\\Anaconda3\\lib\\site-packages\\keras\\backend\\tensorflow_backend.py:95: The name tf.reset_default_graph is deprecated. Please use tf.compat.v1.reset_default_graph instead.\n",
      "\n",
      "W0718 22:59:02.777680  7608 deprecation_wrapper.py:119] From C:\\Users\\Scherzando\\Anaconda3\\lib\\site-packages\\keras\\backend\\tensorflow_backend.py:98: The name tf.placeholder_with_default is deprecated. Please use tf.compat.v1.placeholder_with_default instead.\n",
      "\n",
      "W0718 22:59:02.794684  7608 deprecation_wrapper.py:119] From C:\\Users\\Scherzando\\Anaconda3\\lib\\site-packages\\keras\\backend\\tensorflow_backend.py:102: The name tf.get_default_graph is deprecated. Please use tf.compat.v1.get_default_graph instead.\n",
      "\n",
      "W0718 22:59:02.795685  7608 deprecation_wrapper.py:119] From C:\\Users\\Scherzando\\Anaconda3\\lib\\site-packages\\keras\\backend\\tensorflow_backend.py:517: The name tf.placeholder is deprecated. Please use tf.compat.v1.placeholder instead.\n",
      "\n",
      "W0718 22:59:02.797685  7608 deprecation_wrapper.py:119] From C:\\Users\\Scherzando\\Anaconda3\\lib\\site-packages\\keras\\backend\\tensorflow_backend.py:4138: The name tf.random_uniform is deprecated. Please use tf.random.uniform instead.\n",
      "\n",
      "W0718 22:59:02.836694  7608 deprecation.py:506] From C:\\Users\\Scherzando\\Anaconda3\\lib\\site-packages\\keras\\backend\\tensorflow_backend.py:3445: calling dropout (from tensorflow.python.ops.nn_ops) with keep_prob is deprecated and will be removed in a future version.\n",
      "Instructions for updating:\n",
      "Please use `rate` instead of `keep_prob`. Rate should be set to `rate = 1 - keep_prob`.\n",
      "W0718 22:59:02.858699  7608 deprecation_wrapper.py:119] From C:\\Users\\Scherzando\\Anaconda3\\lib\\site-packages\\keras\\optimizers.py:790: The name tf.train.Optimizer is deprecated. Please use tf.compat.v1.train.Optimizer instead.\n",
      "\n",
      "W0718 22:59:02.936718  7608 deprecation.py:323] From C:\\Users\\Scherzando\\Anaconda3\\lib\\site-packages\\tensorflow\\python\\ops\\math_grad.py:1250: add_dispatch_support.<locals>.wrapper (from tensorflow.python.ops.array_ops) is deprecated and will be removed in a future version.\n",
      "Instructions for updating:\n",
      "Use tf.where in 2.0, which has the same broadcast rule as np.where\n"
     ]
    },
    {
     "name": "stdout",
     "output_type": "stream",
     "text": [
      "Experiment with Optimizer RMSprop\n",
      "_________________________________________________________________\n",
      "Layer (type)                 Output Shape              Param #   \n",
      "=================================================================\n",
      "input_1 (InputLayer)         (None, 3072)              0         \n",
      "_________________________________________________________________\n",
      "hidden_layer1 (Dense)        (None, 512)               1573376   \n",
      "_________________________________________________________________\n",
      "hidden_layer2 (Dense)        (None, 256)               131328    \n",
      "_________________________________________________________________\n",
      "hidden_layer3 (Dense)        (None, 128)               32896     \n",
      "_________________________________________________________________\n",
      "output (Dense)               (None, 10)                1290      \n",
      "_________________________________________________________________\n",
      "dropout_1 (Dropout)          (None, 10)                0         \n",
      "=================================================================\n",
      "Total params: 1,738,890\n",
      "Trainable params: 1,738,890\n",
      "Non-trainable params: 0\n",
      "_________________________________________________________________\n",
      "Train on 50000 samples, validate on 10000 samples\n",
      "Epoch 1/50\n",
      "50000/50000 [==============================] - 5s 92us/step - loss: 4.8590 - acc: 0.2006 - val_loss: 2.0598 - val_acc: 0.2367\n",
      "Epoch 2/50\n",
      "50000/50000 [==============================] - 2s 49us/step - loss: 4.6118 - acc: 0.2801 - val_loss: 1.8924 - val_acc: 0.3224\n",
      "Epoch 3/50\n",
      "50000/50000 [==============================] - 2s 48us/step - loss: 4.4989 - acc: 0.3175 - val_loss: 1.7007 - val_acc: 0.3929\n",
      "Epoch 4/50\n",
      "50000/50000 [==============================] - 2s 49us/step - loss: 4.4695 - acc: 0.3387 - val_loss: 1.8116 - val_acc: 0.3537\n",
      "Epoch 5/50\n",
      "50000/50000 [==============================] - 2s 49us/step - loss: 4.3696 - acc: 0.3615 - val_loss: 1.6317 - val_acc: 0.4156\n",
      "Epoch 6/50\n",
      "50000/50000 [==============================] - 3s 52us/step - loss: 4.3741 - acc: 0.3739 - val_loss: 1.6684 - val_acc: 0.3965\n",
      "Epoch 7/50\n",
      "50000/50000 [==============================] - 5s 101us/step - loss: 4.3666 - acc: 0.3817 - val_loss: 1.6075 - val_acc: 0.4210\n",
      "Epoch 8/50\n",
      "50000/50000 [==============================] - 5s 97us/step - loss: 4.3251 - acc: 0.3925 - val_loss: 1.7596 - val_acc: 0.3881\n",
      "Epoch 9/50\n",
      "50000/50000 [==============================] - 7s 130us/step - loss: 4.3261 - acc: 0.3975 - val_loss: 1.5912 - val_acc: 0.4256\n",
      "Epoch 10/50\n",
      "50000/50000 [==============================] - 3s 62us/step - loss: 4.2781 - acc: 0.4081 - val_loss: 1.5680 - val_acc: 0.4393\n",
      "Epoch 11/50\n",
      "50000/50000 [==============================] - 3s 64us/step - loss: 4.2802 - acc: 0.4115 - val_loss: 1.5572 - val_acc: 0.4502\n",
      "Epoch 12/50\n",
      "50000/50000 [==============================] - 3s 57us/step - loss: 4.2914 - acc: 0.4158 - val_loss: 1.5216 - val_acc: 0.4593\n",
      "Epoch 13/50\n",
      "50000/50000 [==============================] - 3s 68us/step - loss: 4.2515 - acc: 0.4229 - val_loss: 1.4867 - val_acc: 0.4725\n",
      "Epoch 14/50\n",
      "50000/50000 [==============================] - 3s 66us/step - loss: 4.2115 - acc: 0.4333 - val_loss: 1.6167 - val_acc: 0.4354\n",
      "Epoch 15/50\n",
      "50000/50000 [==============================] - 3s 61us/step - loss: 4.1540 - acc: 0.4381 - val_loss: 1.5830 - val_acc: 0.4484\n",
      "Epoch 16/50\n",
      "50000/50000 [==============================] - 3s 62us/step - loss: 4.2049 - acc: 0.4440 - val_loss: 1.5965 - val_acc: 0.4371\n",
      "Epoch 17/50\n",
      "50000/50000 [==============================] - 2s 50us/step - loss: 4.1945 - acc: 0.4479 - val_loss: 1.7006 - val_acc: 0.4272\n",
      "Epoch 18/50\n",
      "50000/50000 [==============================] - 3s 52us/step - loss: 4.1637 - acc: 0.4517 - val_loss: 1.5575 - val_acc: 0.4635\n",
      "Epoch 19/50\n",
      "50000/50000 [==============================] - 3s 55us/step - loss: 4.1520 - acc: 0.4563 - val_loss: 1.5464 - val_acc: 0.4673\n",
      "Epoch 20/50\n",
      "50000/50000 [==============================] - 5s 97us/step - loss: 4.1793 - acc: 0.4605 - val_loss: 1.5499 - val_acc: 0.4579\n",
      "Epoch 21/50\n",
      "50000/50000 [==============================] - 7s 135us/step - loss: 4.1584 - acc: 0.4672 - val_loss: 1.5583 - val_acc: 0.4594\n",
      "Epoch 22/50\n",
      "50000/50000 [==============================] - 3s 51us/step - loss: 4.1030 - acc: 0.4739 - val_loss: 1.4892 - val_acc: 0.4887\n",
      "Epoch 23/50\n",
      "50000/50000 [==============================] - 2s 49us/step - loss: 4.0707 - acc: 0.4767 - val_loss: 1.5956 - val_acc: 0.4640\n",
      "Epoch 24/50\n",
      "50000/50000 [==============================] - 2s 49us/step - loss: 4.0921 - acc: 0.4797 - val_loss: 1.5652 - val_acc: 0.4535\n",
      "Epoch 25/50\n",
      "50000/50000 [==============================] - 2s 49us/step - loss: 4.1033 - acc: 0.4807 - val_loss: 1.5258 - val_acc: 0.4682\n",
      "Epoch 26/50\n",
      "50000/50000 [==============================] - 3s 54us/step - loss: 4.0763 - acc: 0.4845 - val_loss: 1.5124 - val_acc: 0.4773\n",
      "Epoch 27/50\n",
      "50000/50000 [==============================] - 6s 130us/step - loss: 4.0102 - acc: 0.4938 - val_loss: 1.6037 - val_acc: 0.4551\n",
      "Epoch 28/50\n",
      "50000/50000 [==============================] - 3s 63us/step - loss: 4.0840 - acc: 0.4950 - val_loss: 1.6251 - val_acc: 0.4609\n",
      "Epoch 29/50\n",
      "50000/50000 [==============================] - 2s 49us/step - loss: 4.0078 - acc: 0.5016 - val_loss: 1.5448 - val_acc: 0.4811\n",
      "Epoch 30/50\n",
      "50000/50000 [==============================] - 2s 50us/step - loss: 4.0021 - acc: 0.5051 - val_loss: 1.6045 - val_acc: 0.4739\n",
      "Epoch 31/50\n",
      "50000/50000 [==============================] - 3s 51us/step - loss: 4.0091 - acc: 0.5063 - val_loss: 1.6290 - val_acc: 0.4699\n",
      "Epoch 32/50\n",
      "50000/50000 [==============================] - 3s 52us/step - loss: 4.0179 - acc: 0.5093 - val_loss: 1.5522 - val_acc: 0.4812\n",
      "Epoch 33/50\n",
      "50000/50000 [==============================] - 2s 50us/step - loss: 3.9908 - acc: 0.5148 - val_loss: 1.6943 - val_acc: 0.4779\n",
      "Epoch 34/50\n",
      "50000/50000 [==============================] - 3s 53us/step - loss: 3.9688 - acc: 0.5184 - val_loss: 1.6360 - val_acc: 0.4676\n",
      "Epoch 35/50\n",
      "50000/50000 [==============================] - 2s 50us/step - loss: 3.9388 - acc: 0.5246 - val_loss: 1.6794 - val_acc: 0.4722\n",
      "Epoch 36/50\n",
      "50000/50000 [==============================] - 3s 51us/step - loss: 3.9649 - acc: 0.5230 - val_loss: 1.6543 - val_acc: 0.4655\n",
      "Epoch 37/50\n",
      "50000/50000 [==============================] - 2s 50us/step - loss: 3.9697 - acc: 0.5269 - val_loss: 1.7861 - val_acc: 0.4644\n",
      "Epoch 38/50\n",
      "50000/50000 [==============================] - 3s 50us/step - loss: 3.9578 - acc: 0.5317 - val_loss: 1.6047 - val_acc: 0.4860\n",
      "Epoch 39/50\n",
      "50000/50000 [==============================] - 2s 49us/step - loss: 3.9002 - acc: 0.5344 - val_loss: 1.7248 - val_acc: 0.4846\n",
      "Epoch 40/50\n",
      "50000/50000 [==============================] - 3s 52us/step - loss: 3.9274 - acc: 0.5367 - val_loss: 1.5951 - val_acc: 0.4873\n",
      "Epoch 41/50\n",
      "50000/50000 [==============================] - 3s 53us/step - loss: 3.8896 - acc: 0.5384 - val_loss: 1.7197 - val_acc: 0.4614\n",
      "Epoch 42/50\n",
      "50000/50000 [==============================] - 6s 118us/step - loss: 3.9326 - acc: 0.5402 - val_loss: 1.6220 - val_acc: 0.4764\n",
      "Epoch 43/50\n",
      "50000/50000 [==============================] - 3s 65us/step - loss: 3.9494 - acc: 0.5422 - val_loss: 1.7092 - val_acc: 0.4646\n",
      "Epoch 44/50\n",
      "50000/50000 [==============================] - 3s 59us/step - loss: 3.9429 - acc: 0.5447 - val_loss: 1.6713 - val_acc: 0.4714\n",
      "Epoch 45/50\n",
      "50000/50000 [==============================] - 3s 54us/step - loss: 3.8601 - acc: 0.5507 - val_loss: 1.7292 - val_acc: 0.4867\n",
      "Epoch 46/50\n",
      "50000/50000 [==============================] - 3s 60us/step - loss: 3.8883 - acc: 0.5528 - val_loss: 1.7793 - val_acc: 0.4878\n",
      "Epoch 47/50\n",
      "50000/50000 [==============================] - 3s 57us/step - loss: 3.8980 - acc: 0.5566 - val_loss: 1.9743 - val_acc: 0.4672\n",
      "Epoch 48/50\n",
      "50000/50000 [==============================] - 3s 52us/step - loss: 3.8678 - acc: 0.5595 - val_loss: 1.7432 - val_acc: 0.4849\n",
      "Epoch 49/50\n",
      "50000/50000 [==============================] - 3s 52us/step - loss: 3.9325 - acc: 0.5574 - val_loss: 1.7095 - val_acc: 0.4885\n",
      "Epoch 50/50\n",
      "50000/50000 [==============================] - 3s 52us/step - loss: 3.8504 - acc: 0.5620 - val_loss: 1.7710 - val_acc: 0.4890\n"
     ]
    }
   ],
   "source": [
    "results = {}\n",
    "\"\"\"Code Here\n",
    "撰寫你的訓練流程並將結果用 dictionary 紀錄\n",
    "\"\"\"\n",
    "keras.backend.clear_session() # 把舊的 Graph 清掉\n",
    "print('Experiment with Optimizer {0}'.format('RMSprop'))\n",
    "model = build_mlp(input_shape=x_train.shape[1:])\n",
    "model.summary()\n",
    "opt = keras.optimizers.RMSprop(lr=LEARNING_RATE, rho=0.9)\n",
    "model.compile(loss=\"categorical_crossentropy\", metrics=[\"accuracy\"], optimizer=opt)\n",
    "\n",
    "model.fit(x_train, y_train, \n",
    "          epochs=EPOCHS, \n",
    "          batch_size=BATCH_SIZE, \n",
    "          validation_data=(x_test, y_test), \n",
    "          shuffle=True)\n",
    "\n",
    "# Collect results\n",
    "train_loss = model.history.history[\"loss\"]\n",
    "valid_loss = model.history.history[\"val_loss\"]\n",
    "train_acc = model.history.history[\"acc\"]\n",
    "valid_acc = model.history.history[\"val_acc\"]\n",
    "\n",
    "exp_name_tag = 'exp-{0}'.format('RMSprop')\n",
    "results[exp_name_tag] = {'train-loss': train_loss,\n",
    "                         'valid-loss': valid_loss,\n",
    "                         'train-acc': train_acc,\n",
    "                         'valid-acc': valid_acc}"
   ]
  },
  {
   "cell_type": "code",
   "execution_count": 8,
   "metadata": {},
   "outputs": [
    {
     "data": {
      "image/png": "[encoded data removed]",
      "text/plain": [
       "<Figure size 432x288 with 1 Axes>"
      ]
     },
     "metadata": {
      "needs_background": "light"
     },
     "output_type": "display_data"
    },
    {
     "data": {
      "image/png": "[encoded data removed]",
      "text/plain": [
       "<Figure size 432x288 with 1 Axes>"
      ]
     },
     "metadata": {
      "needs_background": "light"
     },
     "output_type": "display_data"
    }
   ],
   "source": [
    "import matplotlib.pyplot as plt\n",
    "%matplotlib inline\n",
    "\n",
    "color_bar = [\"r\", \"g\", \"b\", \"y\", \"m\", \"k\"]\n",
    "\n",
    "for i, cond in enumerate(results.keys()):\n",
    "    plt.plot(range(len(results[cond]['train-loss'])),results[cond]['train-loss'], '-', label=cond, color=color_bar[i])\n",
    "    plt.plot(range(len(results[cond]['valid-loss'])),results[cond]['valid-loss'], '--', label=cond, color=color_bar[i])\n",
    "plt.title(\"Loss\")\n",
    "plt.legend()\n",
    "plt.show()\n",
    "\n",
    "for i, cond in enumerate(results.keys()):\n",
    "    plt.plot(range(len(results[cond]['train-acc'])),results[cond]['train-acc'], '-', label=cond, color=color_bar[i])\n",
    "    plt.plot(range(len(results[cond]['valid-acc'])),results[cond]['valid-acc'], '--', label=cond, color=color_bar[i])\n",
    "plt.title(\"Accuracy\")\n",
    "plt.legend()\n",
    "plt.show()"
   ]
  },
  {
   "cell_type": "code",
   "execution_count": null,
   "metadata": {},
   "outputs": [],
   "source": []
  }
 ],
 "metadata": {
  "kernelspec": {
   "display_name": "Python 3",
   "language": "python",
   "name": "python3"
  },
  "language_info": {
   "codemirror_mode": {
    "name": "ipython",
    "version": 3
   },
   "file_extension": ".py",
   "mimetype": "text/x-python",
   "name": "python",
   "nbconvert_exporter": "python",
   "pygments_lexer": "ipython3",
   "version": "3.7.3"
  }
 },
 "nbformat": 4,
 "nbformat_minor": 2
}
