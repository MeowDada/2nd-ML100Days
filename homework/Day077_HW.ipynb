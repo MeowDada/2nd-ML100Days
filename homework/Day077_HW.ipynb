{
 "cells": [
  {
   "cell_type": "markdown",
   "metadata": {},
   "source": [
    "## Work\n",
    "1. 請將 Epoch 加到 500 個，並觀察 learning curve 的走勢\n",
    "2. 請將 Optimizer 換成 SGD，並觀察 learning curve 的走勢"
   ]
  },
  {
   "cell_type": "code",
   "execution_count": 1,
   "metadata": {},
   "outputs": [
    {
     "name": "stderr",
     "output_type": "stream",
     "text": [
      "Using TensorFlow backend.\n"
     ]
    }
   ],
   "source": [
    "import os\n",
    "import keras\n",
    "\n",
    "# 本作業可以不需使用 GPU, 將 GPU 設定為 \"無\" (若有 GPU 且想開啟，可設為 \"0\")\n",
    "os.environ[\"CUDA_VISIBLE_DEVICES\"] = \"0\""
   ]
  },
  {
   "cell_type": "code",
   "execution_count": 2,
   "metadata": {},
   "outputs": [],
   "source": [
    "# 從 Keras 的內建功能中，取得 train 與 test 資料集\n",
    "train, test = keras.datasets.cifar10.load_data()"
   ]
  },
  {
   "cell_type": "code",
   "execution_count": 3,
   "metadata": {},
   "outputs": [],
   "source": [
    "# 將 X 與 Y 獨立放進變數\n",
    "x_train, y_train = train\n",
    "x_test, y_test = test\n",
    "# 資料前處理 - 標準化\n",
    "x_train = x_train / 255.\n",
    "x_test = x_test / 255.\n",
    "\n",
    "# 將資料從圖形 (RGB) 轉為向量 (Single Vector)\n",
    "x_train = x_train.reshape((len(x_train), -1))\n",
    "x_test = x_test.reshape((len(x_test), -1))\n",
    "\n",
    "# 將目標轉為 one-hot encoding\n",
    "y_train = keras.utils.to_categorical(y_train, num_classes=10)\n",
    "y_test = keras.utils.to_categorical(y_test, num_classes=10)"
   ]
  },
  {
   "cell_type": "code",
   "execution_count": 4,
   "metadata": {},
   "outputs": [
    {
     "name": "stderr",
     "output_type": "stream",
     "text": [
      "WARNING: Logging before flag parsing goes to stderr.\n",
      "W0714 16:17:06.265362 11876 deprecation_wrapper.py:119] From C:\\Users\\Scherzando\\Anaconda3\\lib\\site-packages\\keras\\backend\\tensorflow_backend.py:74: The name tf.get_default_graph is deprecated. Please use tf.compat.v1.get_default_graph instead.\n",
      "\n",
      "W0714 16:17:06.281366 11876 deprecation_wrapper.py:119] From C:\\Users\\Scherzando\\Anaconda3\\lib\\site-packages\\keras\\backend\\tensorflow_backend.py:517: The name tf.placeholder is deprecated. Please use tf.compat.v1.placeholder instead.\n",
      "\n",
      "W0714 16:17:06.284366 11876 deprecation_wrapper.py:119] From C:\\Users\\Scherzando\\Anaconda3\\lib\\site-packages\\keras\\backend\\tensorflow_backend.py:4138: The name tf.random_uniform is deprecated. Please use tf.random.uniform instead.\n",
      "\n"
     ]
    }
   ],
   "source": [
    "def build_mlp():\n",
    "    \"\"\"Code Here\n",
    "    建立你的神經網路\n",
    "    \"\"\"\n",
    "    input_layer = keras.layers.Input([x_train.shape[-1]])\n",
    "    x = keras.layers.Dense(units=512, activation=\"relu\")(input_layer)\n",
    "    x = keras.layers.Dense(units=256, activation=\"relu\")(x)\n",
    "    x = keras.layers.Dense(units=128, activation=\"relu\")(x)\n",
    "    out = keras.layers.Dense(units=10, activation=\"softmax\")(x)\n",
    "    model = keras.models.Model(inputs=[input_layer], outputs=[out])\n",
    "    return model\n",
    "\n",
    "model = build_mlp()"
   ]
  },
  {
   "cell_type": "code",
   "execution_count": 5,
   "metadata": {},
   "outputs": [
    {
     "name": "stderr",
     "output_type": "stream",
     "text": [
      "W0714 16:17:06.334377 11876 deprecation_wrapper.py:119] From C:\\Users\\Scherzando\\Anaconda3\\lib\\site-packages\\keras\\optimizers.py:790: The name tf.train.Optimizer is deprecated. Please use tf.compat.v1.train.Optimizer instead.\n",
      "\n",
      "W0714 16:17:06.340378 11876 deprecation_wrapper.py:119] From C:\\Users\\Scherzando\\Anaconda3\\lib\\site-packages\\keras\\backend\\tensorflow_backend.py:3295: The name tf.log is deprecated. Please use tf.math.log instead.\n",
      "\n"
     ]
    }
   ],
   "source": [
    "from keras import optimizers\n",
    "\n",
    "sgd = optimizers.SGD(lr=0.1, momentum=1e-3, decay=0, nesterov=True)\n",
    "\"\"\"\n",
    "Compile 模型\n",
    "\"\"\"\n",
    "model.compile(optimizer = sgd, loss = 'categorical_crossentropy', metrics = ['accuracy'])"
   ]
  },
  {
   "cell_type": "code",
   "execution_count": 6,
   "metadata": {
    "scrolled": true
   },
   "outputs": [
    {
     "name": "stderr",
     "output_type": "stream",
     "text": [
      "W0714 16:17:06.412395 11876 deprecation.py:323] From C:\\Users\\Scherzando\\Anaconda3\\lib\\site-packages\\tensorflow\\python\\ops\\math_grad.py:1250: add_dispatch_support.<locals>.wrapper (from tensorflow.python.ops.array_ops) is deprecated and will be removed in a future version.\n",
      "Instructions for updating:\n",
      "Use tf.where in 2.0, which has the same broadcast rule as np.where\n",
      "W0714 16:17:06.457405 11876 deprecation_wrapper.py:119] From C:\\Users\\Scherzando\\Anaconda3\\lib\\site-packages\\keras\\backend\\tensorflow_backend.py:986: The name tf.assign_add is deprecated. Please use tf.compat.v1.assign_add instead.\n",
      "\n"
     ]
    },
    {
     "name": "stdout",
     "output_type": "stream",
     "text": [
      "Train on 50000 samples, validate on 10000 samples\n",
      "Epoch 1/50\n",
      "50000/50000 [==============================] - 4s 84us/step - loss: 2.0431 - acc: 0.2560 - val_loss: 1.9128 - val_acc: 0.3186\n",
      "Epoch 2/50\n",
      "50000/50000 [==============================] - 2s 47us/step - loss: 1.8390 - acc: 0.3409 - val_loss: 2.1892 - val_acc: 0.2459\n",
      "Epoch 3/50\n",
      "50000/50000 [==============================] - 2s 44us/step - loss: 1.7492 - acc: 0.3726 - val_loss: 1.9326 - val_acc: 0.3059\n",
      "Epoch 4/50\n",
      "50000/50000 [==============================] - 2s 44us/step - loss: 1.6794 - acc: 0.4015 - val_loss: 1.6419 - val_acc: 0.4175\n",
      "Epoch 5/50\n",
      "50000/50000 [==============================] - 2s 44us/step - loss: 1.6372 - acc: 0.4163 - val_loss: 1.6338 - val_acc: 0.4282\n",
      "Epoch 6/50\n",
      "50000/50000 [==============================] - 2s 44us/step - loss: 1.5934 - acc: 0.4321 - val_loss: 1.6849 - val_acc: 0.3910\n",
      "Epoch 7/50\n",
      "50000/50000 [==============================] - 2s 45us/step - loss: 1.5534 - acc: 0.4472 - val_loss: 1.6057 - val_acc: 0.4422\n",
      "Epoch 8/50\n",
      "50000/50000 [==============================] - 2s 45us/step - loss: 1.5175 - acc: 0.4583 - val_loss: 1.8726 - val_acc: 0.3510\n",
      "Epoch 9/50\n",
      "50000/50000 [==============================] - 2s 44us/step - loss: 1.4987 - acc: 0.4677 - val_loss: 1.5577 - val_acc: 0.4422\n",
      "Epoch 10/50\n",
      "50000/50000 [==============================] - 2s 44us/step - loss: 1.4634 - acc: 0.4800 - val_loss: 1.5485 - val_acc: 0.4485\n",
      "Epoch 11/50\n",
      "50000/50000 [==============================] - 2s 44us/step - loss: 1.4311 - acc: 0.4920 - val_loss: 1.5220 - val_acc: 0.4501\n",
      "Epoch 12/50\n",
      "50000/50000 [==============================] - 2s 44us/step - loss: 1.4148 - acc: 0.4954 - val_loss: 1.4788 - val_acc: 0.4730\n",
      "Epoch 13/50\n",
      "50000/50000 [==============================] - 2s 44us/step - loss: 1.3843 - acc: 0.5067 - val_loss: 1.5983 - val_acc: 0.4423\n",
      "Epoch 14/50\n",
      "50000/50000 [==============================] - 2s 44us/step - loss: 1.3713 - acc: 0.5109 - val_loss: 1.5568 - val_acc: 0.4439\n",
      "Epoch 15/50\n",
      "50000/50000 [==============================] - 2s 44us/step - loss: 1.3394 - acc: 0.5227 - val_loss: 1.5179 - val_acc: 0.4545\n",
      "Epoch 16/50\n",
      "50000/50000 [==============================] - 2s 44us/step - loss: 1.3238 - acc: 0.5300 - val_loss: 1.6492 - val_acc: 0.4373\n",
      "Epoch 17/50\n",
      "50000/50000 [==============================] - 2s 45us/step - loss: 1.3087 - acc: 0.5373 - val_loss: 1.4520 - val_acc: 0.4905\n",
      "Epoch 18/50\n",
      "50000/50000 [==============================] - 2s 44us/step - loss: 1.2883 - acc: 0.5417 - val_loss: 1.5845 - val_acc: 0.4575\n",
      "Epoch 19/50\n",
      "50000/50000 [==============================] - 2s 44us/step - loss: 1.2649 - acc: 0.5501 - val_loss: 1.5620 - val_acc: 0.4562\n",
      "Epoch 20/50\n",
      "50000/50000 [==============================] - 2s 44us/step - loss: 1.2479 - acc: 0.5567 - val_loss: 1.4891 - val_acc: 0.4708\n",
      "Epoch 21/50\n",
      "50000/50000 [==============================] - 2s 45us/step - loss: 1.2342 - acc: 0.5614 - val_loss: 1.7070 - val_acc: 0.4280\n",
      "Epoch 22/50\n",
      "50000/50000 [==============================] - 2s 44us/step - loss: 1.2166 - acc: 0.5669 - val_loss: 1.4862 - val_acc: 0.4830\n",
      "Epoch 23/50\n",
      "50000/50000 [==============================] - 2s 44us/step - loss: 1.1907 - acc: 0.5754 - val_loss: 1.5758 - val_acc: 0.4616\n",
      "Epoch 24/50\n",
      "50000/50000 [==============================] - 2s 44us/step - loss: 1.1732 - acc: 0.5833 - val_loss: 1.5489 - val_acc: 0.4823\n",
      "Epoch 25/50\n",
      "50000/50000 [==============================] - 2s 44us/step - loss: 1.1542 - acc: 0.5877 - val_loss: 1.4071 - val_acc: 0.5085\n",
      "Epoch 26/50\n",
      "50000/50000 [==============================] - 2s 44us/step - loss: 1.1392 - acc: 0.5926 - val_loss: 1.4369 - val_acc: 0.4925\n",
      "Epoch 27/50\n",
      "50000/50000 [==============================] - 2s 44us/step - loss: 1.1198 - acc: 0.6022 - val_loss: 1.5582 - val_acc: 0.4660\n",
      "Epoch 28/50\n",
      "50000/50000 [==============================] - 2s 44us/step - loss: 1.1098 - acc: 0.6046 - val_loss: 1.5350 - val_acc: 0.4704\n",
      "Epoch 29/50\n",
      "50000/50000 [==============================] - 2s 44us/step - loss: 1.0887 - acc: 0.6119 - val_loss: 1.5376 - val_acc: 0.4732\n",
      "Epoch 30/50\n",
      "50000/50000 [==============================] - 2s 44us/step - loss: 1.0790 - acc: 0.6158 - val_loss: 1.4571 - val_acc: 0.4997\n",
      "Epoch 31/50\n",
      "50000/50000 [==============================] - 2s 44us/step - loss: 1.0524 - acc: 0.6273 - val_loss: 1.5391 - val_acc: 0.4759\n",
      "Epoch 32/50\n",
      "50000/50000 [==============================] - 2s 44us/step - loss: 1.0515 - acc: 0.6253 - val_loss: 1.4258 - val_acc: 0.5060\n",
      "Epoch 33/50\n",
      "50000/50000 [==============================] - 2s 45us/step - loss: 1.0272 - acc: 0.6360 - val_loss: 1.6088 - val_acc: 0.4684\n",
      "Epoch 34/50\n",
      "50000/50000 [==============================] - 2s 44us/step - loss: 1.0045 - acc: 0.6427 - val_loss: 1.6247 - val_acc: 0.4600\n",
      "Epoch 35/50\n",
      "50000/50000 [==============================] - 2s 44us/step - loss: 0.9921 - acc: 0.6467 - val_loss: 1.5094 - val_acc: 0.4862\n",
      "Epoch 36/50\n",
      "50000/50000 [==============================] - 2s 44us/step - loss: 0.9653 - acc: 0.6565 - val_loss: 1.6051 - val_acc: 0.4697\n",
      "Epoch 37/50\n",
      "50000/50000 [==============================] - 2s 44us/step - loss: 0.9568 - acc: 0.6596 - val_loss: 1.5478 - val_acc: 0.4981\n",
      "Epoch 38/50\n",
      "50000/50000 [==============================] - 2s 45us/step - loss: 0.9349 - acc: 0.6664 - val_loss: 1.5460 - val_acc: 0.4954\n",
      "Epoch 39/50\n",
      "50000/50000 [==============================] - 2s 45us/step - loss: 0.9263 - acc: 0.6680 - val_loss: 1.5211 - val_acc: 0.5034\n",
      "Epoch 40/50\n",
      "50000/50000 [==============================] - 2s 45us/step - loss: 0.9194 - acc: 0.6733 - val_loss: 1.9804 - val_acc: 0.4185\n",
      "Epoch 41/50\n",
      "50000/50000 [==============================] - 2s 44us/step - loss: 0.8990 - acc: 0.6798 - val_loss: 1.5135 - val_acc: 0.4992\n",
      "Epoch 42/50\n",
      "50000/50000 [==============================] - 2s 44us/step - loss: 0.8732 - acc: 0.6896 - val_loss: 1.6404 - val_acc: 0.4897\n",
      "Epoch 43/50\n",
      "50000/50000 [==============================] - 2s 45us/step - loss: 0.8585 - acc: 0.6955 - val_loss: 1.5230 - val_acc: 0.5064\n",
      "Epoch 44/50\n",
      "50000/50000 [==============================] - 2s 45us/step - loss: 0.8398 - acc: 0.7004 - val_loss: 1.5973 - val_acc: 0.4972\n",
      "Epoch 45/50\n",
      "50000/50000 [==============================] - 2s 45us/step - loss: 0.8181 - acc: 0.7080 - val_loss: 1.7477 - val_acc: 0.4874\n",
      "Epoch 46/50\n",
      "50000/50000 [==============================] - 2s 44us/step - loss: 0.8138 - acc: 0.7090 - val_loss: 1.9937 - val_acc: 0.4474\n",
      "Epoch 47/50\n",
      "50000/50000 [==============================] - 2s 45us/step - loss: 0.8024 - acc: 0.7140 - val_loss: 1.5271 - val_acc: 0.5155\n",
      "Epoch 48/50\n",
      "50000/50000 [==============================] - 2s 44us/step - loss: 0.7828 - acc: 0.7220 - val_loss: 1.5582 - val_acc: 0.5067\n",
      "Epoch 49/50\n",
      "50000/50000 [==============================] - 2s 45us/step - loss: 0.7687 - acc: 0.7254 - val_loss: 1.6119 - val_acc: 0.4992\n",
      "Epoch 50/50\n",
      "50000/50000 [==============================] - 2s 44us/step - loss: 0.7496 - acc: 0.7347 - val_loss: 1.9164 - val_acc: 0.4543\n"
     ]
    },
    {
     "data": {
      "text/plain": [
       "<keras.callbacks.History at 0x1e4201bbe48>"
      ]
     },
     "execution_count": 6,
     "metadata": {},
     "output_type": "execute_result"
    }
   ],
   "source": [
    "\"\"\"\n",
    "設定要訓練的 Epoch 數\n",
    "\"\"\"\n",
    "model.fit(x_train, y_train, \n",
    "          epochs=50, \n",
    "          batch_size=256, \n",
    "          validation_data=(x_test, y_test), \n",
    "          shuffle=True)"
   ]
  },
  {
   "cell_type": "code",
   "execution_count": 7,
   "metadata": {},
   "outputs": [],
   "source": [
    "import matplotlib.pyplot as plt\n",
    "# 以視覺畫方式檢視訓練過程\n",
    "\n",
    "train_loss = model.history.history[\"loss\"]\n",
    "valid_loss = model.history.history[\"val_loss\"]\n",
    "\n",
    "train_acc = model.history.history[\"acc\"]\n",
    "valid_acc = model.history.history[\"val_acc\"]"
   ]
  },
  {
   "cell_type": "code",
   "execution_count": 8,
   "metadata": {},
   "outputs": [
    {
     "data": {
      "image/png": "[encoded data removed]",
      "text/plain": [
       "<Figure size 432x288 with 1 Axes>"
      ]
     },
     "metadata": {
      "needs_background": "light"
     },
     "output_type": "display_data"
    }
   ],
   "source": [
    "plt.plot(range(len(train_loss)), train_loss, label=\"train loss\")\n",
    "plt.plot(range(len(valid_loss)), valid_loss, label=\"valid loss\")\n",
    "plt.legend()\n",
    "plt.title(\"Loss\")\n",
    "plt.show()"
   ]
  },
  {
   "cell_type": "code",
   "execution_count": 9,
   "metadata": {},
   "outputs": [
    {
     "data": {
      "image/png": "[encoded data removed]",
      "text/plain": [
       "<Figure size 432x288 with 1 Axes>"
      ]
     },
     "metadata": {
      "needs_background": "light"
     },
     "output_type": "display_data"
    }
   ],
   "source": [
    "plt.plot(range(len(train_acc)), train_acc, label=\"train accuracy\")\n",
    "plt.plot(range(len(valid_acc)), valid_acc, label=\"valid accuracy\")\n",
    "plt.legend()\n",
    "plt.title(\"Accuracy\")\n",
    "plt.show()"
   ]
  },
  {
   "cell_type": "code",
   "execution_count": null,
   "metadata": {},
   "outputs": [],
   "source": []
  }
 ],
 "metadata": {
  "kernelspec": {
   "display_name": "Python 3",
   "language": "python",
   "name": "python3"
  },
  "language_info": {
   "codemirror_mode": {
    "name": "ipython",
    "version": 3
   },
   "file_extension": ".py",
   "mimetype": "text/x-python",
   "name": "python",
   "nbconvert_exporter": "python",
   "pygments_lexer": "ipython3",
   "version": "3.7.3"
  }
 },
 "nbformat": 4,
 "nbformat_minor": 2
}
