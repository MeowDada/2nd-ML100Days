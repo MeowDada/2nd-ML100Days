{
 "cells": [
  {
   "cell_type": "markdown",
   "metadata": {},
   "source": [
    "# WSDM - KKBox's Music Recommendation Challenge\n",
    "## 重要性\n",
    "藉由分析使用者的音樂聆聽行為，使得串流音樂商能夠推薦給用戶更優質的歌曲。進而使產品黏著度增加，鞏固客群。\n",
    "## 資料收集方式\n",
    "資料來源自KKBOX本身的資料庫。\n",
    "## 資料型態\n",
    "### train.csv\n",
    "主要用來train的data\n",
    "* msno: string\n",
    "* song_id: string\n",
    "* source_system_tab: string\n",
    "* source_screen_name: string\n",
    "* source_type: string\n",
    "* target: boolean\n",
    "\n",
    "### songs.csv\n",
    "歌曲相關資訊\n",
    "* song_id: string\n",
    "* song_length: 整數(單位為毫秒)\n",
    "* genre_ids: genre category: string\n",
    "* artist_name: string\n",
    "* composer: string\n",
    "* lyricist: string\n",
    "* language: string\n",
    "\n",
    "### members.csv\n",
    "儲存使用者資訊\n",
    "* msno: string\n",
    "* city: string\n",
    "* bd: 數字(有outlier)\n",
    "* gender: string\n",
    "* registered_via: string\n",
    "* registration_init_time: string\n",
    "* expiration_date: string\n",
    "\n",
    "### song_extra_info.csv\n",
    "歌曲之額外資訊\n",
    "* song_id: string\n",
    "* song name: string\n",
    "* isrc: string\n",
    "\n",
    "## 目標\n",
    "對於每一個query entry，我們都要輸出一個介於機率0~1之間的值。代表針對此特定使用者，預測他們是否會喜歡KKBOX推薦給他們的歌曲\n",
    "\n",
    "## 方法評估\n",
    "### 假設\n",
    "* 有些資訊是redundant的\n",
    "* 大多數用戶只喜歡聽自己喜愛的類型\n",
    "* 每一個用戶喜愛的歌曲類型十分有限(比如說喜愛特定歌手、歌曲類型)\n",
    "\n",
    "### 方法\n",
    "* 人工過濾一些認為沒有幫助的features(如歌曲之ISRC)\n",
    "* 將剩餘features組合出數個模型\n",
    "* 每個模型都是做Classification，用來predict使用者是否喜歡被推薦之歌曲\n",
    "    * 模型一，同溫層模型，由相同喜好的人組成一個團體，該團體只會喜歡他們共同愛聽的歌曲\n",
    "    * 模型二，檢視該用戶的歷史資訊，用於classificate該用戶是否會喜歡被推薦的歌曲\n",
    "    * 模型三，整體模型，直接拿原始input來做classification\n",
    "* 最後給予每個模型自己的權重，加權得出最終的機率(0~1)\n",
    "\n",
    "### 假設驗證\n",
    "* 用feature selection檢視那些特徵是影響力很低的\n",
    "* 統計出用戶喜愛歌曲類型的個數\n",
    "* 算出用戶與喜愛特定歌手，與特定歌曲的相關性\n",
    "\n",
    "## 驗證\n",
    "直接上傳對應的Kaggle頁面，由系統算出預測精準度，分數越高即代表越好。"
   ]
  },
  {
   "cell_type": "markdown",
   "metadata": {},
   "source": [
    "## 練習時間\n",
    "#### 請寫一個函式用來計算 Mean Square Error\n",
    "$ MSE = \\frac{1}{n}\\sum_{i=1}^{n}{(Y_i - \\hat{Y}_i)^2} $\n",
    "\n",
    "### Hint: [如何取平方](https://googoodesign.gitbooks.io/-ezpython/unit-1.html)"
   ]
  },
  {
   "cell_type": "code",
   "execution_count": 1,
   "metadata": {},
   "outputs": [],
   "source": [
    "import numpy as np\n",
    "import matplotlib.pyplot as plt"
   ]
  },
  {
   "cell_type": "code",
   "execution_count": 2,
   "metadata": {},
   "outputs": [],
   "source": [
    "def mean_squared_error(y, y_hat):\n",
    "    \"\"\"\n",
    "    計算 MSE\n",
    "    Args:\n",
    "        - y: 實際值\n",
    "        - y_hat: 預測值\n",
    "    Return:\n",
    "        - mse: MSE\n",
    "    \"\"\"\n",
    "    mse = sum(y-y_hat) / len(y)\n",
    "    return mse"
   ]
  },
  {
   "cell_type": "code",
   "execution_count": 3,
   "metadata": {},
   "outputs": [],
   "source": [
    "def mean_absolute_error(y, yp):\n",
    "    \"\"\"\n",
    "    計算 MAE\n",
    "    Args:\n",
    "        - y: 實際值\n",
    "        - yp: 預測值\n",
    "    Return:\n",
    "        - mae: MAE\n",
    "    \"\"\"\n",
    "    mae = sum(abs(y - yp)) / len(y)\n",
    "    return mae"
   ]
  },
  {
   "cell_type": "code",
   "execution_count": 4,
   "metadata": {},
   "outputs": [
    {
     "data": {
      "image/png": "[encoded data removed]",
      "text/plain": [
       "<Figure size 432x288 with 1 Axes>"
      ]
     },
     "metadata": {
      "needs_background": "light"
     },
     "output_type": "display_data"
    }
   ],
   "source": [
    "w = 3\n",
    "b = 0.5\n",
    "\n",
    "x_lin = np.linspace(0, 100, 101)\n",
    "\n",
    "y = (x_lin + np.random.randn(101) * 5) * w + b\n",
    "\n",
    "plt.plot(x_lin, y, 'b.', label = 'data points')\n",
    "plt.title(\"Assume we have data points\")\n",
    "plt.legend(loc = 2)\n",
    "plt.show()"
   ]
  },
  {
   "cell_type": "code",
   "execution_count": 5,
   "metadata": {},
   "outputs": [
    {
     "data": {
      "image/png": "[encoded data removed]",
      "text/plain": [
       "<Figure size 432x288 with 1 Axes>"
      ]
     },
     "metadata": {
      "needs_background": "light"
     },
     "output_type": "display_data"
    }
   ],
   "source": [
    "y_hat = x_lin * w + b\n",
    "plt.plot(x_lin, y, 'b.', label = 'data')\n",
    "plt.plot(x_lin, y_hat, 'r-', label = 'prediction')\n",
    "plt.title(\"Assume we have data points (And the prediction)\")\n",
    "plt.legend(loc = 2)\n",
    "plt.show()"
   ]
  },
  {
   "cell_type": "code",
   "execution_count": 6,
   "metadata": {},
   "outputs": [
    {
     "name": "stdout",
     "output_type": "stream",
     "text": [
      "The Mean squared error is 0.378\n",
      "The Mean absolute error is 12.366\n"
     ]
    }
   ],
   "source": [
    "# 執行 Function, 確認有沒有正常執行\n",
    "MSE = mean_squared_error(y, y_hat)\n",
    "MAE = mean_absolute_error(y, y_hat)\n",
    "print(\"The Mean squared error is %.3f\" % (MSE))\n",
    "print(\"The Mean absolute error is %.3f\" % (MAE))"
   ]
  }
 ],
 "metadata": {
  "anaconda-cloud": {},
  "kernelspec": {
   "display_name": "Python 3",
   "language": "python",
   "name": "python3"
  },
  "language_info": {
   "codemirror_mode": {
    "name": "ipython",
    "version": 3
   },
   "file_extension": ".py",
   "mimetype": "text/x-python",
   "name": "python",
   "nbconvert_exporter": "python",
   "pygments_lexer": "ipython3",
   "version": "3.7.1"
  }
 },
 "nbformat": 4,
 "nbformat_minor": 1
}
