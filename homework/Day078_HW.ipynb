{
 "cells": [
  {
   "cell_type": "markdown",
   "metadata": {},
   "source": [
    "## Work\n",
    "1. 請嘗試將 preproc_x 替換成以每筆資料的 min/max 進行標準化至 -1 ~ 1 間，再進行訓練\n",
    "2. 請嘗試將 mlp 疊更深 (e.g 5~10 層)，進行訓練後觀察 learning curve 的走勢\n",
    "3. (optional) 請改用 GPU 進行訓練 (如果你有 GPU 的話)，比較使用 CPU 與 GPU 的訓練速度"
   ]
  },
  {
   "cell_type": "code",
   "execution_count": 1,
   "metadata": {},
   "outputs": [
    {
     "name": "stderr",
     "output_type": "stream",
     "text": [
      "'nvidia-smi' is not recognized as an internal or external command,\n",
      "operable program or batch file.\n"
     ]
    }
   ],
   "source": [
    "## \n",
    "\"\"\"\n",
    "Your code here (optional)\n",
    "確認硬體資源\n",
    "\"\"\"\n",
    "!nvidia-smi"
   ]
  },
  {
   "cell_type": "code",
   "execution_count": 2,
   "metadata": {},
   "outputs": [
    {
     "name": "stderr",
     "output_type": "stream",
     "text": [
      "Using TensorFlow backend.\n"
     ]
    }
   ],
   "source": [
    "import os\n",
    "import keras\n",
    "\n",
    "# 請嘗試設定 GPU：os.environ\n",
    "os.environ[\"CUDA_VISIBLE_DEVICES\"] = \"0\""
   ]
  },
  {
   "cell_type": "code",
   "execution_count": 3,
   "metadata": {},
   "outputs": [],
   "source": [
    "train, test = keras.datasets.cifar10.load_data()"
   ]
  },
  {
   "cell_type": "code",
   "execution_count": 4,
   "metadata": {},
   "outputs": [],
   "source": [
    "## 資料前處理\n",
    "\"\"\"\n",
    "Your code here\n",
    "\"\"\"\n",
    "def preproc_x(x, flatten=True):\n",
    "    x = x / 255.\n",
    "    if flatten:\n",
    "        x = x.reshape((len(x), -1))\n",
    "    return x\n",
    "\n",
    "def preproc_y(y, num_classes=10):\n",
    "    if y.shape[-1] == 1:\n",
    "        y = keras.utils.to_categorical(y, num_classes)\n",
    "    return y    "
   ]
  },
  {
   "cell_type": "code",
   "execution_count": 5,
   "metadata": {},
   "outputs": [],
   "source": [
    "x_train, y_train = train\n",
    "x_test, y_test = test\n",
    "\n",
    "# Preproc the inputs\n",
    "x_train = preproc_x(x_train)\n",
    "x_test = preproc_x(x_test)\n",
    "\n",
    "# Preprc the outputs\n",
    "y_train = preproc_y(y_train)\n",
    "y_test = preproc_y(y_test)"
   ]
  },
  {
   "cell_type": "code",
   "execution_count": 8,
   "metadata": {},
   "outputs": [
    {
     "name": "stderr",
     "output_type": "stream",
     "text": [
      "WARNING: Logging before flag parsing goes to stderr.\n",
      "W0714 16:22:23.551210 11964 deprecation_wrapper.py:119] From C:\\Users\\Scherzando\\Anaconda3\\lib\\site-packages\\keras\\backend\\tensorflow_backend.py:74: The name tf.get_default_graph is deprecated. Please use tf.compat.v1.get_default_graph instead.\n",
      "\n",
      "W0714 16:22:23.566212 11964 deprecation_wrapper.py:119] From C:\\Users\\Scherzando\\Anaconda3\\lib\\site-packages\\keras\\backend\\tensorflow_backend.py:517: The name tf.placeholder is deprecated. Please use tf.compat.v1.placeholder instead.\n",
      "\n",
      "W0714 16:22:23.569214 11964 deprecation_wrapper.py:119] From C:\\Users\\Scherzando\\Anaconda3\\lib\\site-packages\\keras\\backend\\tensorflow_backend.py:4138: The name tf.random_uniform is deprecated. Please use tf.random.uniform instead.\n",
      "\n"
     ]
    },
    {
     "name": "stdout",
     "output_type": "stream",
     "text": [
      "_________________________________________________________________\n",
      "Layer (type)                 Output Shape              Param #   \n",
      "=================================================================\n",
      "input_1 (InputLayer)         (None, 3072)              0         \n",
      "_________________________________________________________________\n",
      "hidden_layer1 (Dense)        (None, 512)               1573376   \n",
      "_________________________________________________________________\n",
      "hidden_layer2 (Dense)        (None, 256)               131328    \n",
      "_________________________________________________________________\n",
      "hidden_layer3 (Dense)        (None, 128)               32896     \n",
      "_________________________________________________________________\n",
      "output (Dense)               (None, 10)                1290      \n",
      "=================================================================\n",
      "Total params: 1,738,890\n",
      "Trainable params: 1,738,890\n",
      "Non-trainable params: 0\n",
      "_________________________________________________________________\n"
     ]
    }
   ],
   "source": [
    "\"\"\"Code Here\n",
    "建立你的神經網路\n",
    "\"\"\"\n",
    "def build_mlp(input_shape, output_units=10, num_neurons=[512, 256, 128]):\n",
    "    input_layer = keras.layers.Input(input_shape)\n",
    "    \n",
    "    for i, n_units in enumerate(num_neurons):\n",
    "        if i == 0:\n",
    "            x = keras.layers.Dense(units=n_units, activation=\"relu\", name=\"hidden_layer\"+str(i+1))(input_layer)\n",
    "        else:\n",
    "            x = keras.layers.Dense(units=n_units, activation=\"relu\", name=\"hidden_layer\"+str(i+1))(x)\n",
    "    \n",
    "    out = keras.layers.Dense(units=output_units, activation=\"softmax\", name=\"output\")(x)\n",
    "    model = keras.models.Model(inputs=[input_layer], outputs=[out])\n",
    "    return model\n",
    "\n",
    "model = build_mlp(input_shape=x_train.shape[1:])\n",
    "model.summary()"
   ]
  },
  {
   "cell_type": "code",
   "execution_count": 9,
   "metadata": {},
   "outputs": [],
   "source": [
    "## 超參數設定\n",
    "LEARNING_RATE = 0.001\n",
    "EPOCHS = 50\n",
    "BATCH_SIZE = 256"
   ]
  },
  {
   "cell_type": "code",
   "execution_count": 10,
   "metadata": {},
   "outputs": [
    {
     "name": "stderr",
     "output_type": "stream",
     "text": [
      "W0714 16:22:34.867491 11964 deprecation_wrapper.py:119] From C:\\Users\\Scherzando\\Anaconda3\\lib\\site-packages\\keras\\optimizers.py:790: The name tf.train.Optimizer is deprecated. Please use tf.compat.v1.train.Optimizer instead.\n",
      "\n",
      "W0714 16:22:34.873493 11964 deprecation_wrapper.py:119] From C:\\Users\\Scherzando\\Anaconda3\\lib\\site-packages\\keras\\backend\\tensorflow_backend.py:3295: The name tf.log is deprecated. Please use tf.math.log instead.\n",
      "\n"
     ]
    }
   ],
   "source": [
    "optimizer = keras.optimizers.Adam(lr=LEARNING_RATE)\n",
    "model.compile(loss=\"categorical_crossentropy\", metrics=[\"accuracy\"], optimizer=optimizer)"
   ]
  },
  {
   "cell_type": "code",
   "execution_count": 11,
   "metadata": {},
   "outputs": [
    {
     "name": "stderr",
     "output_type": "stream",
     "text": [
      "W0714 16:22:35.395701 11964 deprecation.py:323] From C:\\Users\\Scherzando\\Anaconda3\\lib\\site-packages\\tensorflow\\python\\ops\\math_grad.py:1250: add_dispatch_support.<locals>.wrapper (from tensorflow.python.ops.array_ops) is deprecated and will be removed in a future version.\n",
      "Instructions for updating:\n",
      "Use tf.where in 2.0, which has the same broadcast rule as np.where\n",
      "W0714 16:22:35.489723 11964 deprecation_wrapper.py:119] From C:\\Users\\Scherzando\\Anaconda3\\lib\\site-packages\\keras\\backend\\tensorflow_backend.py:986: The name tf.assign_add is deprecated. Please use tf.compat.v1.assign_add instead.\n",
      "\n"
     ]
    },
    {
     "name": "stdout",
     "output_type": "stream",
     "text": [
      "Train on 50000 samples, validate on 10000 samples\n",
      "Epoch 1/50\n",
      "50000/50000 [==============================] - 4s 82us/step - loss: 1.9539 - acc: 0.2931 - val_loss: 1.8107 - val_acc: 0.3526\n",
      "Epoch 2/50\n",
      "50000/50000 [==============================] - 2s 49us/step - loss: 1.7055 - acc: 0.3921 - val_loss: 1.6737 - val_acc: 0.3978\n",
      "Epoch 3/50\n",
      "50000/50000 [==============================] - 2s 49us/step - loss: 1.6092 - acc: 0.4275 - val_loss: 1.6039 - val_acc: 0.4253\n",
      "Epoch 4/50\n",
      "50000/50000 [==============================] - 2s 50us/step - loss: 1.5462 - acc: 0.4486 - val_loss: 1.5478 - val_acc: 0.4456\n",
      "Epoch 5/50\n",
      "50000/50000 [==============================] - 2s 49us/step - loss: 1.4978 - acc: 0.4664 - val_loss: 1.6377 - val_acc: 0.4196\n",
      "Epoch 6/50\n",
      "50000/50000 [==============================] - 2s 49us/step - loss: 1.4655 - acc: 0.4769 - val_loss: 1.5510 - val_acc: 0.4474\n",
      "Epoch 7/50\n",
      "50000/50000 [==============================] - 2s 50us/step - loss: 1.4363 - acc: 0.4883 - val_loss: 1.4587 - val_acc: 0.4776\n",
      "Epoch 8/50\n",
      "50000/50000 [==============================] - 2s 49us/step - loss: 1.3991 - acc: 0.5024 - val_loss: 1.4299 - val_acc: 0.4918\n",
      "Epoch 9/50\n",
      "50000/50000 [==============================] - 2s 50us/step - loss: 1.3750 - acc: 0.5106 - val_loss: 1.4322 - val_acc: 0.4886\n",
      "Epoch 10/50\n",
      "50000/50000 [==============================] - 2s 49us/step - loss: 1.3513 - acc: 0.5203 - val_loss: 1.4250 - val_acc: 0.4933\n",
      "Epoch 11/50\n",
      "50000/50000 [==============================] - 3s 52us/step - loss: 1.3273 - acc: 0.5269 - val_loss: 1.4236 - val_acc: 0.4908\n",
      "Epoch 12/50\n",
      "50000/50000 [==============================] - 2s 50us/step - loss: 1.3055 - acc: 0.5358 - val_loss: 1.4092 - val_acc: 0.5003\n",
      "Epoch 13/50\n",
      "50000/50000 [==============================] - 3s 62us/step - loss: 1.2743 - acc: 0.5464 - val_loss: 1.3983 - val_acc: 0.5033\n",
      "Epoch 14/50\n",
      "50000/50000 [==============================] - 2s 50us/step - loss: 1.2574 - acc: 0.5522 - val_loss: 1.4135 - val_acc: 0.4995\n",
      "Epoch 15/50\n",
      "50000/50000 [==============================] - 3s 59us/step - loss: 1.2376 - acc: 0.5585 - val_loss: 1.3804 - val_acc: 0.5130\n",
      "Epoch 16/50\n",
      "50000/50000 [==============================] - 3s 52us/step - loss: 1.2050 - acc: 0.5722 - val_loss: 1.3673 - val_acc: 0.5149\n",
      "Epoch 17/50\n",
      "50000/50000 [==============================] - 3s 50us/step - loss: 1.1886 - acc: 0.5770 - val_loss: 1.3910 - val_acc: 0.5099\n",
      "Epoch 18/50\n",
      "50000/50000 [==============================] - 2s 48us/step - loss: 1.1640 - acc: 0.5846 - val_loss: 1.3710 - val_acc: 0.5135\n",
      "Epoch 19/50\n",
      "50000/50000 [==============================] - 2s 47us/step - loss: 1.1490 - acc: 0.5916 - val_loss: 1.3555 - val_acc: 0.5171\n",
      "Epoch 20/50\n",
      "50000/50000 [==============================] - 2s 47us/step - loss: 1.1302 - acc: 0.5989 - val_loss: 1.3702 - val_acc: 0.5181\n",
      "Epoch 21/50\n",
      "50000/50000 [==============================] - 2s 48us/step - loss: 1.1053 - acc: 0.6054 - val_loss: 1.3532 - val_acc: 0.5222\n",
      "Epoch 22/50\n",
      "50000/50000 [==============================] - 2s 47us/step - loss: 1.0894 - acc: 0.6128 - val_loss: 1.3569 - val_acc: 0.5282\n",
      "Epoch 23/50\n",
      "50000/50000 [==============================] - 2s 47us/step - loss: 1.0700 - acc: 0.6172 - val_loss: 1.3693 - val_acc: 0.5313\n",
      "Epoch 24/50\n",
      "50000/50000 [==============================] - 2s 47us/step - loss: 1.0470 - acc: 0.6255 - val_loss: 1.4216 - val_acc: 0.5175\n",
      "Epoch 25/50\n",
      "50000/50000 [==============================] - 2s 48us/step - loss: 1.0374 - acc: 0.6299 - val_loss: 1.4341 - val_acc: 0.5106\n",
      "Epoch 26/50\n",
      "50000/50000 [==============================] - 2s 47us/step - loss: 1.0217 - acc: 0.6364 - val_loss: 1.3923 - val_acc: 0.5272\n",
      "Epoch 27/50\n",
      "50000/50000 [==============================] - 2s 47us/step - loss: 0.9963 - acc: 0.6437 - val_loss: 1.3826 - val_acc: 0.5234\n",
      "Epoch 28/50\n",
      "50000/50000 [==============================] - 2s 48us/step - loss: 0.9837 - acc: 0.6508 - val_loss: 1.3991 - val_acc: 0.5258\n",
      "Epoch 29/50\n",
      "50000/50000 [==============================] - 2s 49us/step - loss: 0.9647 - acc: 0.6566 - val_loss: 1.4274 - val_acc: 0.5223\n",
      "Epoch 30/50\n",
      "50000/50000 [==============================] - 2s 49us/step - loss: 0.9498 - acc: 0.6602 - val_loss: 1.4072 - val_acc: 0.5225\n",
      "Epoch 31/50\n",
      "50000/50000 [==============================] - 2s 48us/step - loss: 0.9327 - acc: 0.6680 - val_loss: 1.4475 - val_acc: 0.5213\n",
      "Epoch 32/50\n",
      "50000/50000 [==============================] - 2s 49us/step - loss: 0.9201 - acc: 0.6748 - val_loss: 1.4811 - val_acc: 0.5201\n",
      "Epoch 33/50\n",
      "50000/50000 [==============================] - 3s 52us/step - loss: 0.9098 - acc: 0.6756 - val_loss: 1.4572 - val_acc: 0.5264\n",
      "Epoch 34/50\n",
      "50000/50000 [==============================] - 3s 54us/step - loss: 0.8836 - acc: 0.6841 - val_loss: 1.4310 - val_acc: 0.5350\n",
      "Epoch 35/50\n",
      "50000/50000 [==============================] - 2s 50us/step - loss: 0.8602 - acc: 0.6926 - val_loss: 1.4816 - val_acc: 0.5196\n",
      "Epoch 36/50\n",
      "50000/50000 [==============================] - 3s 51us/step - loss: 0.8561 - acc: 0.6938 - val_loss: 1.5332 - val_acc: 0.5151\n",
      "Epoch 37/50\n",
      "50000/50000 [==============================] - 2s 48us/step - loss: 0.8254 - acc: 0.7058 - val_loss: 1.5281 - val_acc: 0.5130\n",
      "Epoch 38/50\n",
      "50000/50000 [==============================] - 2s 49us/step - loss: 0.8204 - acc: 0.7080 - val_loss: 1.5234 - val_acc: 0.5241\n",
      "Epoch 39/50\n",
      "50000/50000 [==============================] - 2s 48us/step - loss: 0.8024 - acc: 0.7117 - val_loss: 1.5275 - val_acc: 0.5192\n",
      "Epoch 40/50\n",
      "50000/50000 [==============================] - 2s 48us/step - loss: 0.7910 - acc: 0.7186 - val_loss: 1.5918 - val_acc: 0.5205\n",
      "Epoch 41/50\n",
      "50000/50000 [==============================] - 2s 49us/step - loss: 0.7686 - acc: 0.7267 - val_loss: 1.5603 - val_acc: 0.5233\n",
      "Epoch 42/50\n",
      "50000/50000 [==============================] - 2s 48us/step - loss: 0.7650 - acc: 0.7283 - val_loss: 1.5331 - val_acc: 0.5323\n",
      "Epoch 43/50\n",
      "50000/50000 [==============================] - 2s 48us/step - loss: 0.7382 - acc: 0.7379 - val_loss: 1.6080 - val_acc: 0.5239\n",
      "Epoch 44/50\n",
      "50000/50000 [==============================] - 2s 48us/step - loss: 0.7455 - acc: 0.7345 - val_loss: 1.6072 - val_acc: 0.5204\n",
      "Epoch 45/50\n",
      "50000/50000 [==============================] - 2s 48us/step - loss: 0.7021 - acc: 0.7492 - val_loss: 1.6467 - val_acc: 0.5212\n",
      "Epoch 46/50\n",
      "50000/50000 [==============================] - 2s 48us/step - loss: 0.7014 - acc: 0.7500 - val_loss: 1.6540 - val_acc: 0.5233\n",
      "Epoch 47/50\n",
      "50000/50000 [==============================] - 2s 48us/step - loss: 0.6976 - acc: 0.7508 - val_loss: 1.6887 - val_acc: 0.5238\n",
      "Epoch 48/50\n",
      "50000/50000 [==============================] - 2s 48us/step - loss: 0.6775 - acc: 0.7582 - val_loss: 1.7393 - val_acc: 0.5076\n",
      "Epoch 49/50\n",
      "50000/50000 [==============================] - 2s 48us/step - loss: 0.6717 - acc: 0.7593 - val_loss: 1.7378 - val_acc: 0.5127\n",
      "Epoch 50/50\n",
      "50000/50000 [==============================] - 2s 49us/step - loss: 0.6542 - acc: 0.7669 - val_loss: 1.7542 - val_acc: 0.5223\n"
     ]
    },
    {
     "data": {
      "text/plain": [
       "<keras.callbacks.History at 0x2482354a0f0>"
      ]
     },
     "execution_count": 11,
     "metadata": {},
     "output_type": "execute_result"
    }
   ],
   "source": [
    "model.fit(x_train, y_train, \n",
    "          epochs=EPOCHS, \n",
    "          batch_size=BATCH_SIZE, \n",
    "          validation_data=(x_test, y_test), \n",
    "          shuffle=True)"
   ]
  },
  {
   "cell_type": "code",
   "execution_count": 12,
   "metadata": {},
   "outputs": [],
   "source": [
    "import matplotlib.pyplot as plt\n",
    "\n",
    "\n",
    "train_loss = model.history.history[\"loss\"]\n",
    "valid_loss = model.history.history[\"val_loss\"]\n",
    "\n",
    "train_acc = model.history.history[\"acc\"]\n",
    "valid_acc = model.history.history[\"val_acc\"]"
   ]
  },
  {
   "cell_type": "code",
   "execution_count": 13,
   "metadata": {},
   "outputs": [
    {
     "data": {
      "image/png": "[encoded data removed]",
      "text/plain": [
       "<Figure size 432x288 with 1 Axes>"
      ]
     },
     "metadata": {
      "needs_background": "light"
     },
     "output_type": "display_data"
    }
   ],
   "source": [
    "plt.plot(range(len(train_loss)), train_loss, label=\"train loss\")\n",
    "plt.plot(range(len(valid_loss)), valid_loss, label=\"valid loss\")\n",
    "plt.legend()\n",
    "plt.title(\"Loss\")\n",
    "plt.show()"
   ]
  },
  {
   "cell_type": "code",
   "execution_count": 14,
   "metadata": {},
   "outputs": [
    {
     "data": {
      "image/png": "[encoded data removed]",
      "text/plain": [
       "<Figure size 432x288 with 1 Axes>"
      ]
     },
     "metadata": {
      "needs_background": "light"
     },
     "output_type": "display_data"
    }
   ],
   "source": [
    "plt.plot(range(len(train_acc)), train_acc, label=\"train accuracy\")\n",
    "plt.plot(range(len(valid_acc)), valid_acc, label=\"valid accuracy\")\n",
    "plt.legend()\n",
    "plt.title(\"Accuracy\")\n",
    "plt.show()"
   ]
  }
 ],
 "metadata": {
  "kernelspec": {
   "display_name": "Python 3",
   "language": "python",
   "name": "python3"
  },
  "language_info": {
   "codemirror_mode": {
    "name": "ipython",
    "version": 3
   },
   "file_extension": ".py",
   "mimetype": "text/x-python",
   "name": "python",
   "nbconvert_exporter": "python",
   "pygments_lexer": "ipython3",
   "version": "3.7.3"
  }
 },
 "nbformat": 4,
 "nbformat_minor": 2
}
